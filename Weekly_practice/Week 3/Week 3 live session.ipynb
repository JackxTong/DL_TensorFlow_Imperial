{
 "cells": [
  {
   "cell_type": "code",
   "execution_count": 1,
   "id": "17769cac",
   "metadata": {},
   "outputs": [
    {
     "name": "stdout",
     "output_type": "stream",
     "text": [
      "Backend after setting: torch\n"
     ]
    }
   ],
   "source": [
    "import os\n",
    "os.environ['KERAS_BACKEND'] = 'torch'\n",
    "import keras\n",
    "from keras import ops\n",
    "print(\"Backend after setting:\", keras.config.backend())"
   ]
  },
  {
   "cell_type": "markdown",
   "id": "32a71c70",
   "metadata": {},
   "source": [
    "## Formative assessment"
   ]
  },
  {
   "cell_type": "markdown",
   "id": "3ce174ca",
   "metadata": {},
   "source": [
    "#### Custom training loop"
   ]
  },
  {
   "cell_type": "code",
   "execution_count": 2,
   "id": "ec8329f6",
   "metadata": {},
   "outputs": [],
   "source": [
    "from keras.models import Sequential\n",
    "from keras.layers import Input, Dense, BatchNormalization, Dropout"
   ]
  },
  {
   "cell_type": "code",
   "execution_count": 3,
   "id": "00c731eb",
   "metadata": {},
   "outputs": [
    {
     "data": {
      "text/html": [
       "<pre style=\"white-space:pre;overflow-x:auto;line-height:normal;font-family:Menlo,'DejaVu Sans Mono',consolas,'Courier New',monospace\"><span style=\"font-weight: bold\">Model: \"sequential\"</span>\n",
       "</pre>\n"
      ],
      "text/plain": [
       "\u001b[1mModel: \"sequential\"\u001b[0m\n"
      ]
     },
     "metadata": {},
     "output_type": "display_data"
    },
    {
     "data": {
      "text/html": [
       "<pre style=\"white-space:pre;overflow-x:auto;line-height:normal;font-family:Menlo,'DejaVu Sans Mono',consolas,'Courier New',monospace\">┏━━━━━━━━━━━━━━━━━━━━━━━━━━━━━━━━━┳━━━━━━━━━━━━━━━━━━━━━━━━┳━━━━━━━━━━━━━━━┓\n",
       "┃<span style=\"font-weight: bold\"> Layer (type)                    </span>┃<span style=\"font-weight: bold\"> Output Shape           </span>┃<span style=\"font-weight: bold\">       Param # </span>┃\n",
       "┡━━━━━━━━━━━━━━━━━━━━━━━━━━━━━━━━━╇━━━━━━━━━━━━━━━━━━━━━━━━╇━━━━━━━━━━━━━━━┩\n",
       "│ dense (<span style=\"color: #0087ff; text-decoration-color: #0087ff\">Dense</span>)                   │ (<span style=\"color: #00d7ff; text-decoration-color: #00d7ff\">None</span>, <span style=\"color: #00af00; text-decoration-color: #00af00\">10</span>)             │            <span style=\"color: #00af00; text-decoration-color: #00af00\">50</span> │\n",
       "├─────────────────────────────────┼────────────────────────┼───────────────┤\n",
       "│ batch_normalization             │ (<span style=\"color: #00d7ff; text-decoration-color: #00d7ff\">None</span>, <span style=\"color: #00af00; text-decoration-color: #00af00\">10</span>)             │            <span style=\"color: #00af00; text-decoration-color: #00af00\">40</span> │\n",
       "│ (<span style=\"color: #0087ff; text-decoration-color: #0087ff\">BatchNormalization</span>)            │                        │               │\n",
       "├─────────────────────────────────┼────────────────────────┼───────────────┤\n",
       "│ dropout (<span style=\"color: #0087ff; text-decoration-color: #0087ff\">Dropout</span>)               │ (<span style=\"color: #00d7ff; text-decoration-color: #00d7ff\">None</span>, <span style=\"color: #00af00; text-decoration-color: #00af00\">10</span>)             │             <span style=\"color: #00af00; text-decoration-color: #00af00\">0</span> │\n",
       "├─────────────────────────────────┼────────────────────────┼───────────────┤\n",
       "│ dense_1 (<span style=\"color: #0087ff; text-decoration-color: #0087ff\">Dense</span>)                 │ (<span style=\"color: #00d7ff; text-decoration-color: #00d7ff\">None</span>, <span style=\"color: #00af00; text-decoration-color: #00af00\">10</span>)             │           <span style=\"color: #00af00; text-decoration-color: #00af00\">110</span> │\n",
       "├─────────────────────────────────┼────────────────────────┼───────────────┤\n",
       "│ batch_normalization_1           │ (<span style=\"color: #00d7ff; text-decoration-color: #00d7ff\">None</span>, <span style=\"color: #00af00; text-decoration-color: #00af00\">10</span>)             │            <span style=\"color: #00af00; text-decoration-color: #00af00\">40</span> │\n",
       "│ (<span style=\"color: #0087ff; text-decoration-color: #0087ff\">BatchNormalization</span>)            │                        │               │\n",
       "├─────────────────────────────────┼────────────────────────┼───────────────┤\n",
       "│ dropout_1 (<span style=\"color: #0087ff; text-decoration-color: #0087ff\">Dropout</span>)             │ (<span style=\"color: #00d7ff; text-decoration-color: #00d7ff\">None</span>, <span style=\"color: #00af00; text-decoration-color: #00af00\">10</span>)             │             <span style=\"color: #00af00; text-decoration-color: #00af00\">0</span> │\n",
       "├─────────────────────────────────┼────────────────────────┼───────────────┤\n",
       "│ dense_2 (<span style=\"color: #0087ff; text-decoration-color: #0087ff\">Dense</span>)                 │ (<span style=\"color: #00d7ff; text-decoration-color: #00d7ff\">None</span>, <span style=\"color: #00af00; text-decoration-color: #00af00\">3</span>)              │            <span style=\"color: #00af00; text-decoration-color: #00af00\">33</span> │\n",
       "└─────────────────────────────────┴────────────────────────┴───────────────┘\n",
       "</pre>\n"
      ],
      "text/plain": [
       "┏━━━━━━━━━━━━━━━━━━━━━━━━━━━━━━━━━┳━━━━━━━━━━━━━━━━━━━━━━━━┳━━━━━━━━━━━━━━━┓\n",
       "┃\u001b[1m \u001b[0m\u001b[1mLayer (type)                   \u001b[0m\u001b[1m \u001b[0m┃\u001b[1m \u001b[0m\u001b[1mOutput Shape          \u001b[0m\u001b[1m \u001b[0m┃\u001b[1m \u001b[0m\u001b[1m      Param #\u001b[0m\u001b[1m \u001b[0m┃\n",
       "┡━━━━━━━━━━━━━━━━━━━━━━━━━━━━━━━━━╇━━━━━━━━━━━━━━━━━━━━━━━━╇━━━━━━━━━━━━━━━┩\n",
       "│ dense (\u001b[38;5;33mDense\u001b[0m)                   │ (\u001b[38;5;45mNone\u001b[0m, \u001b[38;5;34m10\u001b[0m)             │            \u001b[38;5;34m50\u001b[0m │\n",
       "├─────────────────────────────────┼────────────────────────┼───────────────┤\n",
       "│ batch_normalization             │ (\u001b[38;5;45mNone\u001b[0m, \u001b[38;5;34m10\u001b[0m)             │            \u001b[38;5;34m40\u001b[0m │\n",
       "│ (\u001b[38;5;33mBatchNormalization\u001b[0m)            │                        │               │\n",
       "├─────────────────────────────────┼────────────────────────┼───────────────┤\n",
       "│ dropout (\u001b[38;5;33mDropout\u001b[0m)               │ (\u001b[38;5;45mNone\u001b[0m, \u001b[38;5;34m10\u001b[0m)             │             \u001b[38;5;34m0\u001b[0m │\n",
       "├─────────────────────────────────┼────────────────────────┼───────────────┤\n",
       "│ dense_1 (\u001b[38;5;33mDense\u001b[0m)                 │ (\u001b[38;5;45mNone\u001b[0m, \u001b[38;5;34m10\u001b[0m)             │           \u001b[38;5;34m110\u001b[0m │\n",
       "├─────────────────────────────────┼────────────────────────┼───────────────┤\n",
       "│ batch_normalization_1           │ (\u001b[38;5;45mNone\u001b[0m, \u001b[38;5;34m10\u001b[0m)             │            \u001b[38;5;34m40\u001b[0m │\n",
       "│ (\u001b[38;5;33mBatchNormalization\u001b[0m)            │                        │               │\n",
       "├─────────────────────────────────┼────────────────────────┼───────────────┤\n",
       "│ dropout_1 (\u001b[38;5;33mDropout\u001b[0m)             │ (\u001b[38;5;45mNone\u001b[0m, \u001b[38;5;34m10\u001b[0m)             │             \u001b[38;5;34m0\u001b[0m │\n",
       "├─────────────────────────────────┼────────────────────────┼───────────────┤\n",
       "│ dense_2 (\u001b[38;5;33mDense\u001b[0m)                 │ (\u001b[38;5;45mNone\u001b[0m, \u001b[38;5;34m3\u001b[0m)              │            \u001b[38;5;34m33\u001b[0m │\n",
       "└─────────────────────────────────┴────────────────────────┴───────────────┘\n"
      ]
     },
     "metadata": {},
     "output_type": "display_data"
    },
    {
     "data": {
      "text/html": [
       "<pre style=\"white-space:pre;overflow-x:auto;line-height:normal;font-family:Menlo,'DejaVu Sans Mono',consolas,'Courier New',monospace\"><span style=\"font-weight: bold\"> Total params: </span><span style=\"color: #00af00; text-decoration-color: #00af00\">273</span> (1.07 KB)\n",
       "</pre>\n"
      ],
      "text/plain": [
       "\u001b[1m Total params: \u001b[0m\u001b[38;5;34m273\u001b[0m (1.07 KB)\n"
      ]
     },
     "metadata": {},
     "output_type": "display_data"
    },
    {
     "data": {
      "text/html": [
       "<pre style=\"white-space:pre;overflow-x:auto;line-height:normal;font-family:Menlo,'DejaVu Sans Mono',consolas,'Courier New',monospace\"><span style=\"font-weight: bold\"> Trainable params: </span><span style=\"color: #00af00; text-decoration-color: #00af00\">233</span> (932.00 B)\n",
       "</pre>\n"
      ],
      "text/plain": [
       "\u001b[1m Trainable params: \u001b[0m\u001b[38;5;34m233\u001b[0m (932.00 B)\n"
      ]
     },
     "metadata": {},
     "output_type": "display_data"
    },
    {
     "data": {
      "text/html": [
       "<pre style=\"white-space:pre;overflow-x:auto;line-height:normal;font-family:Menlo,'DejaVu Sans Mono',consolas,'Courier New',monospace\"><span style=\"font-weight: bold\"> Non-trainable params: </span><span style=\"color: #00af00; text-decoration-color: #00af00\">40</span> (160.00 B)\n",
       "</pre>\n"
      ],
      "text/plain": [
       "\u001b[1m Non-trainable params: \u001b[0m\u001b[38;5;34m40\u001b[0m (160.00 B)\n"
      ]
     },
     "metadata": {},
     "output_type": "display_data"
    }
   ],
   "source": [
    "def get_model(hidden_units, output_units, input_shape, rate):\n",
    "    \"\"\"\n",
    "    This function should create an MLP model according to the above description.\n",
    "    The function should then return the model.\n",
    "    \"\"\"\n",
    "    model = Sequential([Input(shape=input_shape)])\n",
    "    for i, units in enumerate(hidden_units):\n",
    "        model.add(Dense(units, activation='sigmoid'))\n",
    "        model.add(BatchNormalization())\n",
    "        model.add(Dropout(rate))    \n",
    "    model.add(Dense(output_units))\n",
    "    return model\n",
    "\n",
    "\n",
    "model = get_model(hidden_units=[10, 10], output_units=3, input_shape=(4,), rate=0.8)\n",
    "model.summary()"
   ]
  },
  {
   "cell_type": "code",
   "execution_count": 4,
   "id": "a83fcc97",
   "metadata": {},
   "outputs": [
    {
     "data": {
      "text/plain": [
       "array([[0.8339352 , 0.62374777, 0.8275972 , 0.7037556 ],\n",
       "       [0.62092936, 0.5057745 , 0.9864388 , 0.5761297 ],\n",
       "       [0.59166735, 0.38809976, 0.18235333, 0.72386724],\n",
       "       ...,\n",
       "       [0.16198564, 0.6586438 , 0.6498527 , 0.09691948],\n",
       "       [0.75997555, 0.7138604 , 0.909188  , 0.44176814],\n",
       "       [0.5059876 , 0.9028979 , 0.5337657 , 0.71114415]], dtype=float32)"
      ]
     },
     "execution_count": 4,
     "metadata": {},
     "output_type": "execute_result"
    }
   ],
   "source": [
    "X_train = keras.random.uniform((300, 4))\n",
    "X_train = ops.convert_to_numpy(X_train)\n",
    "X_train"
   ]
  },
  {
   "cell_type": "code",
   "execution_count": 5,
   "id": "4371605a",
   "metadata": {},
   "outputs": [
    {
     "data": {
      "text/plain": [
       "array([2, 2, 0, 0, 0, 0, 2, 0, 1, 2, 1, 1, 2, 1, 2, 2, 2, 0, 2, 1, 1, 1,\n",
       "       1, 0, 2, 1, 0, 2, 0, 0, 1, 2, 2, 1, 0, 0, 0, 1, 2, 2, 0, 0, 0, 1,\n",
       "       2, 1, 0, 0, 0, 0, 0, 2, 2, 1, 0, 2, 1, 2, 2, 1, 2, 2, 2, 2, 2, 1,\n",
       "       0, 0, 1, 0, 2, 0, 1, 2, 1, 0, 0, 1, 1, 0, 0, 1, 1, 0, 1, 2, 0, 1,\n",
       "       0, 1, 2, 0, 2, 1, 2, 0, 1, 2, 1, 1, 2, 0, 2, 2, 2, 0, 0, 2, 1, 2,\n",
       "       1, 2, 0, 0, 2, 0, 2, 1, 2, 2, 1, 2, 1, 2, 2, 0, 0, 0, 0, 2, 2, 1,\n",
       "       2, 2, 2, 2, 0, 0, 0, 1, 0, 2, 0, 0, 2, 0, 2, 0, 2, 0, 0, 0, 2, 1,\n",
       "       1, 1, 2, 2, 1, 0, 2, 0, 0, 1, 1, 1, 1, 1, 0, 1, 1, 1, 1, 1, 2, 0,\n",
       "       2, 0, 1, 1, 2, 0, 2, 0, 0, 0, 1, 0, 0, 2, 0, 2, 0, 2, 2, 0, 0, 0,\n",
       "       2, 2, 2, 2, 1, 1, 0, 1, 0, 2, 1, 1, 2, 0, 0, 0, 1, 2, 0, 1, 2, 0,\n",
       "       1, 1, 0, 1, 1, 2, 2, 1, 0, 2, 2, 2, 0, 0, 0, 1, 2, 2, 2, 0, 1, 0,\n",
       "       0, 0, 2, 2, 2, 2, 2, 1, 0, 2, 2, 2, 2, 1, 0, 0, 0, 1, 1, 1, 0, 2,\n",
       "       1, 1, 1, 2, 1, 0, 1, 2, 2, 1, 1, 2, 0, 0, 1, 2, 0, 1, 2, 1, 2, 0,\n",
       "       1, 0, 1, 2, 1, 2, 0, 0, 0, 0, 2, 2, 0, 0], dtype=int32)"
      ]
     },
     "execution_count": 5,
     "metadata": {},
     "output_type": "execute_result"
    }
   ],
   "source": [
    "y_train = keras.random.randint((300,), minval=0, maxval=3)\n",
    "y_train = ops.convert_to_numpy(y_train)\n",
    "y_train"
   ]
  },
  {
   "cell_type": "code",
   "execution_count": 6,
   "id": "4c4dbd3e",
   "metadata": {},
   "outputs": [
    {
     "name": "stderr",
     "output_type": "stream",
     "text": [
      "2025-02-25 13:52:08.303706: E external/local_xla/xla/stream_executor/cuda/cuda_fft.cc:485] Unable to register cuFFT factory: Attempting to register factory for plugin cuFFT when one has already been registered\n",
      "2025-02-25 13:52:08.316049: E external/local_xla/xla/stream_executor/cuda/cuda_dnn.cc:8454] Unable to register cuDNN factory: Attempting to register factory for plugin cuDNN when one has already been registered\n",
      "2025-02-25 13:52:08.319774: E external/local_xla/xla/stream_executor/cuda/cuda_blas.cc:1452] Unable to register cuBLAS factory: Attempting to register factory for plugin cuBLAS when one has already been registered\n",
      "2025-02-25 13:52:08.329254: I tensorflow/core/platform/cpu_feature_guard.cc:210] This TensorFlow binary is optimized to use available CPU instructions in performance-critical operations.\n",
      "To enable the following instructions: AVX2 FMA, in other operations, rebuild TensorFlow with the appropriate compiler flags.\n",
      "2025-02-25 13:52:09.152349: W tensorflow/compiler/tf2tensorrt/utils/py_utils.cc:38] TF-TRT Warning: Could not find TensorRT\n",
      "WARNING: All log messages before absl::InitializeLog() is called are written to STDERR\n",
      "I0000 00:00:1740491529.565230 2862656 cuda_executor.cc:1015] successful NUMA node read from SysFS had negative value (-1), but there must be at least one NUMA node, so returning NUMA node zero. See more at https://github.com/torvalds/linux/blob/v6.0/Documentation/ABI/testing/sysfs-bus-pci#L344-L355\n",
      "I0000 00:00:1740491529.568103 2862656 cuda_executor.cc:1015] successful NUMA node read from SysFS had negative value (-1), but there must be at least one NUMA node, so returning NUMA node zero. See more at https://github.com/torvalds/linux/blob/v6.0/Documentation/ABI/testing/sysfs-bus-pci#L344-L355\n",
      "I0000 00:00:1740491529.571214 2862656 cuda_executor.cc:1015] successful NUMA node read from SysFS had negative value (-1), but there must be at least one NUMA node, so returning NUMA node zero. See more at https://github.com/torvalds/linux/blob/v6.0/Documentation/ABI/testing/sysfs-bus-pci#L344-L355\n",
      "I0000 00:00:1740491529.572906 2862656 cuda_executor.cc:1015] successful NUMA node read from SysFS had negative value (-1), but there must be at least one NUMA node, so returning NUMA node zero. See more at https://github.com/torvalds/linux/blob/v6.0/Documentation/ABI/testing/sysfs-bus-pci#L344-L355\n",
      "2025-02-25 13:52:09.576278: W tensorflow/core/common_runtime/gpu/gpu_device.cc:2343] Cannot dlopen some GPU libraries. Please make sure the missing libraries mentioned above are installed properly if you would like to use GPU. Follow the guide at https://www.tensorflow.org/install/gpu for how to download and setup the required libraries for your platform.\n",
      "Skipping registering GPU devices...\n"
     ]
    }
   ],
   "source": [
    "import tensorflow as tf\n",
    "import torch\n",
    "\n",
    "tf_train_ds = tf.data.Dataset.from_tensor_slices((X_train, y_train))\n",
    "tf_train_ds = tf_train_ds.shuffle(X_train.shape[0]).batch(32).prefetch(tf.data.AUTOTUNE)\n",
    "\n",
    "pt_train_ds = torch.utils.data.TensorDataset(torch.from_numpy(X_train), torch.from_numpy(y_train))\n",
    "pt_train_dl = torch.utils.data.DataLoader(pt_train_ds, batch_size=32, shuffle=True)"
   ]
  },
  {
   "cell_type": "code",
   "execution_count": 14,
   "id": "747295f0",
   "metadata": {},
   "outputs": [],
   "source": [
    "@tf.function\n",
    "def tf_train_step(mlp_model, loss_fn, opt, train_batch):\n",
    "    \"\"\"\n",
    "    This function should perform the update step as described above.\n",
    "    The function should return a tuple of Tensors (loss, y_true, y_pred).\n",
    "    This function will only run with the TensorFlow backend.\n",
    "    \"\"\"\n",
    "    inputs, y_true = train_batch\n",
    "    with tf.GradientTape() as tape:\n",
    "        y_pred = mlp_model(inputs, training=True)\n",
    "        loss = loss_fn(y_true, y_pred)\n",
    "    grads = tape.gradient(loss, mlp_model.trainable_variables)\n",
    "    return loss, grads, y_true, y_pred\n",
    "\n",
    "def pt_train_step(mlp_model, loss_fn, opt, train_batch):\n",
    "    \"\"\"\n",
    "    This function should perform the update step as described above.\n",
    "    The function should return a tuple of Tensors (loss, y_true, y_pred).\n",
    "    This function will only run with the PyTorch backend.\n",
    "    \"\"\"\n",
    "    mlp_model.zero_grad()\n",
    "    inputs, y_true = train_batch\n",
    "\n",
    "    # move inputs to cuda\n",
    "    device = torch.device('cuda' if torch.cuda.is_available() else 'cpu')\n",
    "    inputs = inputs.to(device)\n",
    "    print(inputs.type, inputs.device)\n",
    "    y_pred = mlp_model(inputs, training=True)\n",
    "    loss = loss_fn(y_true, y_pred)\n",
    "    loss.backward()\n",
    "    grads = [v.value.grad for v in mlp_model.trainable_variables]\n",
    "    return loss, grads, y_true, y_pred"
   ]
  },
  {
   "cell_type": "code",
   "execution_count": 8,
   "id": "3fd06efa",
   "metadata": {},
   "outputs": [],
   "source": [
    "# Define the loss and accuracy metrics\n",
    "\n",
    "loss_metric = keras.metrics.Mean()\n",
    "accuracy_metric = keras.metrics.SparseCategoricalAccuracy()"
   ]
  },
  {
   "cell_type": "code",
   "execution_count": 9,
   "id": "4fb6ce9f",
   "metadata": {},
   "outputs": [],
   "source": [
    "def train_model_custom(mlp_model, loss_fn, opt, training_dataset, train_step_fn,  epochs, \n",
    "                       loss_metric=loss_metric, accuracy_metric=accuracy_metric):\n",
    "    \"\"\"\n",
    "    This function should run the custom training loop as described above.\n",
    "    The function should return a tuple of two lists with the loss and accuracy scores.\n",
    "    \"\"\"\n",
    "    epoch_losses = []\n",
    "    epoch_acc = []\n",
    "    \n",
    "    for epoch in range(epochs):\n",
    "        loss_metric.reset_state()\n",
    "        accuracy_metric.reset_state()\n",
    "        \n",
    "        for train_batch in training_dataset:\n",
    "            loss, grads, y_true, y_pred = train_step_fn(mlp_model, loss_fn, opt, train_batch)\n",
    "            opt.apply_gradients(zip(grads, mlp_model.trainable_variables))\n",
    "            # Or: opt.apply(grads, mlp_model.trainable_variables)\n",
    "            \n",
    "            loss_metric.update_state(loss)\n",
    "            accuracy_metric.update_state(y_true, y_pred)\n",
    "            \n",
    "        avg_epoch_loss = float(ops.convert_to_numpy(loss_metric.result()))\n",
    "        avg_epoch_acc = float(ops.convert_to_numpy(accuracy_metric.result()))\n",
    "        epoch_losses.append(avg_epoch_loss)\n",
    "        epoch_acc.append(avg_epoch_acc)\n",
    "        if epoch % 10 == 0:\n",
    "            print(f\"Epoch {epoch}: loss - {avg_epoch_loss:.4f}, accuracy = {avg_epoch_acc:.4f}\")\n",
    "    \n",
    "    return epoch_losses, epoch_acc"
   ]
  },
  {
   "cell_type": "code",
   "execution_count": 10,
   "id": "813e6561-e03d-4a37-835e-41585bbac12d",
   "metadata": {},
   "outputs": [],
   "source": [
    "#### GRADED CELL ####\n",
    "\n",
    "# Complete the following function. \n",
    "# Make sure to not change the function name or arguments.\n",
    "\n",
    "def loss_function(y_true, y_pred):\n",
    "    \"\"\"\n",
    "    This function should compute the categorical cross entropy loss as described above.\n",
    "    The function should return a scalar Tensor with the computed loss value.\n",
    "    \"\"\"\n",
    "    Z = ops.logsumexp(y_pred, axis=-1, keepdims=True)  # (num_examples, 1)\n",
    "    logprob = y_pred - Z  # (num_examples, 3)\n",
    "    return -ops.mean(ops.take_along_axis(logprob, ops.expand_dims(y_true, -1), axis=1))"
   ]
  },
  {
   "cell_type": "code",
   "execution_count": 15,
   "id": "14c65bc2",
   "metadata": {},
   "outputs": [
    {
     "name": "stdout",
     "output_type": "stream",
     "text": [
      "torch\n",
      "<class 'torch.utils.data.dataloader.DataLoader'>\n",
      "True\n",
      "<built-in method type of Tensor object at 0x7f5247b13d60> cuda:0\n",
      "<built-in method type of Tensor object at 0x7f50cd6b7270> cuda:0\n",
      "<built-in method type of Tensor object at 0x7f4f7c51ae00> cuda:0\n",
      "<built-in method type of Tensor object at 0x7f4f7c51ae00> cuda:0\n",
      "<built-in method type of Tensor object at 0x7f50cd6b75e0> cuda:0\n",
      "<built-in method type of Tensor object at 0x7f4f7c4dbb30> cuda:0\n",
      "<built-in method type of Tensor object at 0x7f5001a2d9a0> cuda:0\n",
      "<built-in method type of Tensor object at 0x7f5001a2d9a0> cuda:0\n",
      "<built-in method type of Tensor object at 0x7f50017cb5e0> cuda:0\n",
      "<built-in method type of Tensor object at 0x7f50017cb5e0> cuda:0\n",
      "Epoch 0: loss - 1.2960, accuracy = 0.3200\n",
      "<built-in method type of Tensor object at 0x7f5001a2d9a0> cuda:0\n",
      "<built-in method type of Tensor object at 0x7f5001a2d9a0> cuda:0\n",
      "<built-in method type of Tensor object at 0x7f50017cb5e0> cuda:0\n",
      "<built-in method type of Tensor object at 0x7f5247b13900> cuda:0\n",
      "<built-in method type of Tensor object at 0x7f5001a2d9a0> cuda:0\n",
      "<built-in method type of Tensor object at 0x7f50017cb5e0> cuda:0\n",
      "<built-in method type of Tensor object at 0x7f5247b13900> cuda:0\n",
      "<built-in method type of Tensor object at 0x7f5247b13d60> cuda:0\n",
      "<built-in method type of Tensor object at 0x7f50017cb5e0> cuda:0\n",
      "<built-in method type of Tensor object at 0x7f4f7c4d1220> cuda:0\n",
      "<built-in method type of Tensor object at 0x7f5247b13d60> cuda:0\n",
      "<built-in method type of Tensor object at 0x7f5247b13900> cuda:0\n",
      "<built-in method type of Tensor object at 0x7f4f7c4d1220> cuda:0\n",
      "<built-in method type of Tensor object at 0x7f5001a2d9a0> cuda:0\n",
      "<built-in method type of Tensor object at 0x7f5247b13900> cuda:0\n",
      "<built-in method type of Tensor object at 0x7f5247b13d60> cuda:0\n",
      "<built-in method type of Tensor object at 0x7f5001a2d9a0> cuda:0\n",
      "<built-in method type of Tensor object at 0x7f4f870e6d60> cuda:0\n",
      "<built-in method type of Tensor object at 0x7f5247b13d60> cuda:0\n",
      "<built-in method type of Tensor object at 0x7f5001a2d9a0> cuda:0\n",
      "<built-in method type of Tensor object at 0x7f50cd6b72c0> cuda:0\n",
      "<built-in method type of Tensor object at 0x7f5247b13d60> cuda:0\n",
      "<built-in method type of Tensor object at 0x7f4f7c51ae00> cuda:0\n",
      "<built-in method type of Tensor object at 0x7f50cd6b72c0> cuda:0\n",
      "<built-in method type of Tensor object at 0x7f5247b13d60> cuda:0\n",
      "<built-in method type of Tensor object at 0x7f4f7c51ae00> cuda:0\n",
      "<built-in method type of Tensor object at 0x7f50cd6b7270> cuda:0\n",
      "<built-in method type of Tensor object at 0x7f5247b13d60> cuda:0\n",
      "<built-in method type of Tensor object at 0x7f4f7c51ae00> cuda:0\n",
      "<built-in method type of Tensor object at 0x7f4f7c51ae00> cuda:0\n",
      "<built-in method type of Tensor object at 0x7f5247b13d60> cuda:0\n",
      "<built-in method type of Tensor object at 0x7f50cd6b7270> cuda:0\n",
      "<built-in method type of Tensor object at 0x7f4f7c51ae00> cuda:0\n",
      "<built-in method type of Tensor object at 0x7f4f7c51ae00> cuda:0\n",
      "<built-in method type of Tensor object at 0x7f50cd6b7270> cuda:0\n",
      "<built-in method type of Tensor object at 0x7f50cd6b7270> cuda:0\n",
      "<built-in method type of Tensor object at 0x7f4f7c51ae00> cuda:0\n",
      "<built-in method type of Tensor object at 0x7f4f7c51ae00> cuda:0\n",
      "<built-in method type of Tensor object at 0x7f50cd6b7270> cuda:0\n",
      "<built-in method type of Tensor object at 0x7f50cd6b7270> cuda:0\n",
      "<built-in method type of Tensor object at 0x7f4f7c51ae00> cuda:0\n",
      "<built-in method type of Tensor object at 0x7f4f7c51ae00> cuda:0\n",
      "<built-in method type of Tensor object at 0x7f50cd6b7270> cuda:0\n",
      "<built-in method type of Tensor object at 0x7f50cd6b7270> cuda:0\n",
      "<built-in method type of Tensor object at 0x7f4f7c51ae00> cuda:0\n",
      "<built-in method type of Tensor object at 0x7f4f7c51ae00> cuda:0\n",
      "<built-in method type of Tensor object at 0x7f50cd6b72c0> cuda:0\n",
      "<built-in method type of Tensor object at 0x7f50cd6b72c0> cuda:0\n",
      "<built-in method type of Tensor object at 0x7f4f7c51aea0> cuda:0\n",
      "<built-in method type of Tensor object at 0x7f4f7c51aea0> cuda:0\n",
      "<built-in method type of Tensor object at 0x7f50cd6b7270> cuda:0\n",
      "<built-in method type of Tensor object at 0x7f50cd6b7270> cuda:0\n",
      "<built-in method type of Tensor object at 0x7f4f7c51ae00> cuda:0\n",
      "<built-in method type of Tensor object at 0x7f4f7c51ae00> cuda:0\n",
      "<built-in method type of Tensor object at 0x7f50cd6b72c0> cuda:0\n",
      "<built-in method type of Tensor object at 0x7f50cd6b72c0> cuda:0\n",
      "<built-in method type of Tensor object at 0x7f50cd6b72c0> cuda:0\n",
      "<built-in method type of Tensor object at 0x7f50cd6b72c0> cuda:0\n",
      "<built-in method type of Tensor object at 0x7f50cd6b72c0> cuda:0\n",
      "<built-in method type of Tensor object at 0x7f50cd6b72c0> cuda:0\n",
      "<built-in method type of Tensor object at 0x7f4f7c51ae00> cuda:0\n",
      "<built-in method type of Tensor object at 0x7f4f7c51ae00> cuda:0\n",
      "<built-in method type of Tensor object at 0x7f4f7c51ae00> cuda:0\n",
      "<built-in method type of Tensor object at 0x7f4f7c51ae00> cuda:0\n",
      "<built-in method type of Tensor object at 0x7f4f7c51ae00> cuda:0\n",
      "<built-in method type of Tensor object at 0x7f4f7c51ae00> cuda:0\n",
      "<built-in method type of Tensor object at 0x7f4f7c51ae00> cuda:0\n",
      "<built-in method type of Tensor object at 0x7f50cd6b7270> cuda:0\n",
      "<built-in method type of Tensor object at 0x7f4f870e6db0> cuda:0\n",
      "<built-in method type of Tensor object at 0x7f5247b13d60> cuda:0\n",
      "<built-in method type of Tensor object at 0x7f5001a2d9a0> cuda:0\n",
      "<built-in method type of Tensor object at 0x7f5001a2d9a0> cuda:0\n",
      "<built-in method type of Tensor object at 0x7f5001a2d9a0> cuda:0\n",
      "<built-in method type of Tensor object at 0x7f5001a2d9a0> cuda:0\n",
      "<built-in method type of Tensor object at 0x7f5001a2d9a0> cuda:0\n",
      "<built-in method type of Tensor object at 0x7f5001a2d9a0> cuda:0\n",
      "<built-in method type of Tensor object at 0x7f5001a2d9a0> cuda:0\n",
      "<built-in method type of Tensor object at 0x7f5001a2d9a0> cuda:0\n",
      "<built-in method type of Tensor object at 0x7f5001a2d9a0> cuda:0\n",
      "<built-in method type of Tensor object at 0x7f4f7c51aea0> cuda:0\n",
      "<built-in method type of Tensor object at 0x7f4f870e6b30> cuda:0\n",
      "<built-in method type of Tensor object at 0x7f4f7c51ae00> cuda:0\n",
      "<built-in method type of Tensor object at 0x7f50cd6b72c0> cuda:0\n",
      "<built-in method type of Tensor object at 0x7f50cd6b72c0> cuda:0\n",
      "<built-in method type of Tensor object at 0x7f4f7c51aea0> cuda:0\n",
      "<built-in method type of Tensor object at 0x7f4f7c51aea0> cuda:0\n",
      "<built-in method type of Tensor object at 0x7f50cd6b7270> cuda:0\n",
      "<built-in method type of Tensor object at 0x7f50cd6b7270> cuda:0\n",
      "<built-in method type of Tensor object at 0x7f4f7c51ae00> cuda:0\n",
      "<built-in method type of Tensor object at 0x7f4f7c51ae00> cuda:0\n"
     ]
    }
   ],
   "source": [
    "optimizer = keras.optimizers.SGD()\n",
    "print(keras.config.backend())\n",
    "train_step = pt_train_step\n",
    "print(type(pt_train_dl))\n",
    "\n",
    "#check if training is done with cuda\n",
    "print(torch.cuda.is_available())\n",
    "\n",
    "epoch_losses, epoch_acc = train_model_custom(model, loss_fn=loss_function, opt=optimizer,\n",
    "                                             training_dataset=pt_train_dl, \n",
    "                                             train_step_fn=train_step, epochs=10)"
   ]
  },
  {
   "cell_type": "code",
   "execution_count": null,
   "id": "8b95380a",
   "metadata": {},
   "outputs": [],
   "source": []
  }
 ],
 "metadata": {
  "kernelspec": {
   "display_name": "DL_venv",
   "language": "python",
   "name": "python3"
  },
  "language_info": {
   "codemirror_mode": {
    "name": "ipython",
    "version": 3
   },
   "file_extension": ".py",
   "mimetype": "text/x-python",
   "name": "python",
   "nbconvert_exporter": "python",
   "pygments_lexer": "ipython3",
   "version": "3.9.19"
  }
 },
 "nbformat": 4,
 "nbformat_minor": 5
}
