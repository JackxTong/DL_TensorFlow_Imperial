{
 "cells": [
  {
   "cell_type": "code",
   "execution_count": 1,
   "id": "d618e9e0",
   "metadata": {},
   "outputs": [
    {
     "name": "stderr",
     "output_type": "stream",
     "text": [
      "2025-01-07 10:47:52.473895: E external/local_xla/xla/stream_executor/cuda/cuda_fft.cc:485] Unable to register cuFFT factory: Attempting to register factory for plugin cuFFT when one has already been registered\n",
      "2025-01-07 10:47:52.568592: E external/local_xla/xla/stream_executor/cuda/cuda_dnn.cc:8454] Unable to register cuDNN factory: Attempting to register factory for plugin cuDNN when one has already been registered\n",
      "2025-01-07 10:47:52.595082: E external/local_xla/xla/stream_executor/cuda/cuda_blas.cc:1452] Unable to register cuBLAS factory: Attempting to register factory for plugin cuBLAS when one has already been registered\n",
      "2025-01-07 10:47:52.791519: I tensorflow/core/platform/cpu_feature_guard.cc:210] This TensorFlow binary is optimized to use available CPU instructions in performance-critical operations.\n",
      "To enable the following instructions: AVX2 FMA, in other operations, rebuild TensorFlow with the appropriate compiler flags.\n"
     ]
    }
   ],
   "source": [
    "import keras\n",
    "from keras import ops\n",
    "import numpy as np"
   ]
  },
  {
   "cell_type": "markdown",
   "id": "215b678b-4c79-4369-8770-9e24a9fb1926",
   "metadata": {},
   "source": [
    "#### Config"
   ]
  },
  {
   "cell_type": "code",
   "execution_count": 4,
   "id": "383a4150-203b-47e3-9787-580447e0dd1f",
   "metadata": {},
   "outputs": [
    {
     "data": {
      "text/plain": [
       "'tensorflow'"
      ]
     },
     "execution_count": 4,
     "metadata": {},
     "output_type": "execute_result"
    }
   ],
   "source": [
    "keras.config.backend()"
   ]
  },
  {
   "cell_type": "code",
   "execution_count": 3,
   "id": "2097a341-fb54-4355-a13c-bc1e757de512",
   "metadata": {},
   "outputs": [],
   "source": [
    "import os\n",
    "os.environ['KERAS_BACKEND'] = 'torch'  # 'tensorflow', 'jax'"
   ]
  },
  {
   "cell_type": "code",
   "execution_count": 5,
   "id": "167d1bda-3a77-4c0a-977a-bf4767a4a025",
   "metadata": {},
   "outputs": [
    {
     "data": {
      "text/plain": [
       "'3.4.1'"
      ]
     },
     "execution_count": 5,
     "metadata": {},
     "output_type": "execute_result"
    }
   ],
   "source": [
    "keras.version()"
   ]
  },
  {
   "cell_type": "code",
   "execution_count": 6,
   "id": "55ada0d5",
   "metadata": {},
   "outputs": [
    {
     "name": "stderr",
     "output_type": "stream",
     "text": [
      "WARNING: All log messages before absl::InitializeLog() is called are written to STDERR\n",
      "I0000 00:00:1736247081.538203      25 cuda_executor.cc:1015] successful NUMA node read from SysFS had negative value (-1), but there must be at least one NUMA node, so returning NUMA node zero. See more at https://github.com/torvalds/linux/blob/v6.0/Documentation/ABI/testing/sysfs-bus-pci#L344-L355\n",
      "I0000 00:00:1736247081.642638      25 cuda_executor.cc:1015] successful NUMA node read from SysFS had negative value (-1), but there must be at least one NUMA node, so returning NUMA node zero. See more at https://github.com/torvalds/linux/blob/v6.0/Documentation/ABI/testing/sysfs-bus-pci#L344-L355\n",
      "I0000 00:00:1736247081.644557      25 cuda_executor.cc:1015] successful NUMA node read from SysFS had negative value (-1), but there must be at least one NUMA node, so returning NUMA node zero. See more at https://github.com/torvalds/linux/blob/v6.0/Documentation/ABI/testing/sysfs-bus-pci#L344-L355\n"
     ]
    },
    {
     "data": {
      "text/plain": [
       "[PhysicalDevice(name='/physical_device:GPU:0', device_type='GPU')]"
      ]
     },
     "execution_count": 6,
     "metadata": {},
     "output_type": "execute_result"
    }
   ],
   "source": [
    "import tensorflow as tf\n",
    "\n",
    "tf.config.list_physical_devices(\"GPU\")"
   ]
  },
  {
   "cell_type": "code",
   "execution_count": 7,
   "id": "4254ccbc-132b-411f-9cc3-4dbcc82c9cd2",
   "metadata": {},
   "outputs": [
    {
     "data": {
      "text/plain": [
       "True"
      ]
     },
     "execution_count": 7,
     "metadata": {},
     "output_type": "execute_result"
    }
   ],
   "source": [
    "import torch\n",
    "\n",
    "torch.cuda.is_available()"
   ]
  },
  {
   "cell_type": "markdown",
   "id": "46bdf409-4ed5-4c1c-b118-4fb3decee9a8",
   "metadata": {},
   "source": [
    "#### Tensors"
   ]
  },
  {
   "cell_type": "code",
   "execution_count": 9,
   "id": "dece1332",
   "metadata": {},
   "outputs": [
    {
     "data": {
      "text/plain": [
       "<tf.Tensor: shape=(3,), dtype=int32, numpy=array([1, 2, 3], dtype=int32)>"
      ]
     },
     "execution_count": 9,
     "metadata": {},
     "output_type": "execute_result"
    }
   ],
   "source": [
    "a = ops.array([1, 2, 3])\n",
    "a"
   ]
  },
  {
   "cell_type": "code",
   "execution_count": 13,
   "id": "b2c8e69d",
   "metadata": {},
   "outputs": [
    {
     "data": {
      "text/plain": [
       "<tf.Tensor: shape=(3,), dtype=float32, numpy=array([1., 2., 3.], dtype=float32)>"
      ]
     },
     "execution_count": 13,
     "metadata": {},
     "output_type": "execute_result"
    }
   ],
   "source": [
    "a.shape\n",
    "a.dtype\n",
    "ops.convert_to_numpy(a)\n",
    "a = ops.cast(a, 'float32')\n",
    "a"
   ]
  },
  {
   "cell_type": "code",
   "execution_count": 15,
   "id": "295494ce",
   "metadata": {},
   "outputs": [
    {
     "data": {
      "text/plain": [
       "<tf.Tensor: shape=(2,), dtype=float32, numpy=array([1., 2.], dtype=float32)>"
      ]
     },
     "execution_count": 15,
     "metadata": {},
     "output_type": "execute_result"
    }
   ],
   "source": [
    "a[:2]"
   ]
  },
  {
   "cell_type": "code",
   "execution_count": 16,
   "id": "c03256d5",
   "metadata": {},
   "outputs": [
    {
     "data": {
      "text/plain": [
       "<tf.Tensor: shape=(3,), dtype=float32, numpy=array([4., 5., 6.], dtype=float32)>"
      ]
     },
     "execution_count": 16,
     "metadata": {},
     "output_type": "execute_result"
    }
   ],
   "source": [
    "a + 3"
   ]
  },
  {
   "cell_type": "code",
   "execution_count": 19,
   "id": "7b23a59d-d6fc-4283-a2e1-aa521e223e79",
   "metadata": {},
   "outputs": [
    {
     "ename": "TypeError",
     "evalue": "'tensorflow.python.framework.ops.EagerTensor' object does not support item assignment",
     "output_type": "error",
     "traceback": [
      "\u001b[0;31m---------------------------------------------------------------------------\u001b[0m",
      "\u001b[0;31mTypeError\u001b[0m                                 Traceback (most recent call last)",
      "Cell \u001b[0;32mIn[19], line 1\u001b[0m\n\u001b[0;32m----> 1\u001b[0m \u001b[43ma\u001b[49m\u001b[43m[\u001b[49m\u001b[38;5;241;43m0\u001b[39;49m\u001b[43m]\u001b[49m \u001b[38;5;241m=\u001b[39m \u001b[38;5;241m0.\u001b[39m\n",
      "\u001b[0;31mTypeError\u001b[0m: 'tensorflow.python.framework.ops.EagerTensor' object does not support item assignment"
     ]
    }
   ],
   "source": [
    "a[0] = 0."
   ]
  },
  {
   "cell_type": "markdown",
   "id": "b18cd34d-a812-49d4-95f2-1cc61c2446f3",
   "metadata": {},
   "source": [
    "#### Keras Variables"
   ]
  },
  {
   "cell_type": "code",
   "execution_count": 17,
   "id": "c1fa8e40",
   "metadata": {},
   "outputs": [
    {
     "data": {
      "text/plain": [
       "<KerasVariable shape=(3,), dtype=float32, path=variable>"
      ]
     },
     "execution_count": 17,
     "metadata": {},
     "output_type": "execute_result"
    }
   ],
   "source": [
    "b = keras.Variable(a)\n",
    "b"
   ]
  },
  {
   "cell_type": "code",
   "execution_count": 18,
   "id": "2cb4dd16",
   "metadata": {},
   "outputs": [
    {
     "data": {
      "text/plain": [
       "<tf.Variable 'variable:0' shape=(3,) dtype=float32, numpy=array([1., 2., 3.], dtype=float32)>"
      ]
     },
     "execution_count": 18,
     "metadata": {},
     "output_type": "execute_result"
    }
   ],
   "source": [
    "b.value"
   ]
  },
  {
   "cell_type": "code",
   "execution_count": 20,
   "id": "c524c8d9",
   "metadata": {},
   "outputs": [
    {
     "data": {
      "text/plain": [
       "True"
      ]
     },
     "execution_count": 20,
     "metadata": {},
     "output_type": "execute_result"
    }
   ],
   "source": [
    "b.trainable"
   ]
  },
  {
   "cell_type": "code",
   "execution_count": 21,
   "id": "0ba3e358",
   "metadata": {},
   "outputs": [
    {
     "data": {
      "text/plain": [
       "<tf.Tensor: shape=(), dtype=float32, numpy=1.0>"
      ]
     },
     "execution_count": 21,
     "metadata": {},
     "output_type": "execute_result"
    }
   ],
   "source": [
    "b[0]"
   ]
  },
  {
   "cell_type": "code",
   "execution_count": 22,
   "id": "698c98b8",
   "metadata": {},
   "outputs": [
    {
     "ename": "TypeError",
     "evalue": "'Variable' object does not support item assignment",
     "output_type": "error",
     "traceback": [
      "\u001b[0;31m---------------------------------------------------------------------------\u001b[0m",
      "\u001b[0;31mTypeError\u001b[0m                                 Traceback (most recent call last)",
      "Cell \u001b[0;32mIn[22], line 1\u001b[0m\n\u001b[0;32m----> 1\u001b[0m \u001b[43mb\u001b[49m\u001b[43m[\u001b[49m\u001b[38;5;241;43m0\u001b[39;49m\u001b[43m]\u001b[49m \u001b[38;5;241m=\u001b[39m \u001b[38;5;241m0\u001b[39m\n",
      "\u001b[0;31mTypeError\u001b[0m: 'Variable' object does not support item assignment"
     ]
    }
   ],
   "source": [
    "b[0] = 0"
   ]
  },
  {
   "cell_type": "code",
   "execution_count": 23,
   "id": "b4748450",
   "metadata": {},
   "outputs": [
    {
     "data": {
      "text/plain": [
       "array([2., 3., 4.], dtype=float32)"
      ]
     },
     "execution_count": 23,
     "metadata": {},
     "output_type": "execute_result"
    }
   ],
   "source": [
    "b.assign([2., 3., 4.])\n",
    "ops.convert_to_numpy(b)"
   ]
  },
  {
   "cell_type": "code",
   "execution_count": 24,
   "id": "a8435382",
   "metadata": {},
   "outputs": [
    {
     "data": {
      "text/plain": [
       "array([3., 4., 5.], dtype=float32)"
      ]
     },
     "execution_count": 24,
     "metadata": {},
     "output_type": "execute_result"
    }
   ],
   "source": [
    "b.assign_add([1., 1., 1.])\n",
    "ops.convert_to_numpy(b)"
   ]
  },
  {
   "cell_type": "markdown",
   "id": "8ef61f04-d218-4357-ab6a-26a809a087a4",
   "metadata": {},
   "source": [
    "#### Random Tensors"
   ]
  },
  {
   "cell_type": "code",
   "execution_count": 25,
   "id": "320b5286",
   "metadata": {},
   "outputs": [
    {
     "data": {
      "text/plain": [
       "<tf.Tensor: shape=(2, 3), dtype=float32, numpy=\n",
       "array([[0.89623386, 0.94492656, 0.6311308 ],\n",
       "       [0.47476554, 0.28417054, 0.1892012 ]], dtype=float32)>"
      ]
     },
     "execution_count": 25,
     "metadata": {},
     "output_type": "execute_result"
    }
   ],
   "source": [
    "# Numpy method for creating random arrays\n",
    "\n",
    "c = np.random.uniform(size=(2, 3)).astype(np.float32)  # np is float64 by default\n",
    "c = ops.array(c)\n",
    "c"
   ]
  },
  {
   "cell_type": "code",
   "execution_count": 26,
   "id": "6a9f407a",
   "metadata": {},
   "outputs": [
    {
     "data": {
      "text/plain": [
       "<tf.Tensor: shape=(3, 4), dtype=float32, numpy=\n",
       "array([[ 1.2789631 , -0.65381026, -0.8222155 ,  0.54488605],\n",
       "       [-0.17854883, -0.6810609 ,  0.11018339,  1.085931  ],\n",
       "       [-0.32748464,  1.5268054 , -0.8087275 ,  0.06013825]],\n",
       "      dtype=float32)>"
      ]
     },
     "execution_count": 26,
     "metadata": {},
     "output_type": "execute_result"
    }
   ],
   "source": [
    "# Take a look at the API docs: https://keras.io/api/random/random_ops/\n",
    "\n",
    "d = keras.random.normal((3, 4))\n",
    "d"
   ]
  },
  {
   "cell_type": "markdown",
   "id": "efedd50c-70f1-43d0-9216-7f4e6e218a73",
   "metadata": {},
   "source": [
    "#### NumPy ops"
   ]
  },
  {
   "cell_type": "code",
   "execution_count": 27,
   "id": "d063c5ea",
   "metadata": {},
   "outputs": [
    {
     "data": {
      "text/plain": [
       "<tf.Tensor: shape=(2, 4), dtype=float32, numpy=\n",
       "array([[ 0.7708488 , -0.26590544, -1.143195  ,  1.5524254 ],\n",
       "       [ 0.49450877, -0.2150706 , -0.51206094,  0.5786609 ]],\n",
       "      dtype=float32)>"
      ]
     },
     "execution_count": 27,
     "metadata": {},
     "output_type": "execute_result"
    }
   ],
   "source": [
    "# np ops: https://keras.io/api/ops/#numpy-ops\n",
    "\n",
    "ops.matmul(c, d)\n",
    "# Try running ops.matmul(d, c), this gives an error"
   ]
  },
  {
   "cell_type": "code",
   "execution_count": 28,
   "id": "2e976a0c",
   "metadata": {},
   "outputs": [],
   "source": [
    "# Random Tensors in Keras: check the docs!\n",
    "\n",
    "c = keras.random.uniform((2, 5, 3))\n",
    "d = keras.random.gamma((2, 3, 4), 1.0)"
   ]
  },
  {
   "cell_type": "code",
   "execution_count": 29,
   "id": "e3e4097a",
   "metadata": {},
   "outputs": [
    {
     "data": {
      "text/plain": [
       "<tf.Tensor: shape=(2, 5, 4), dtype=float32, numpy=\n",
       "array([[[2.8347647 , 3.263228  , 0.9831042 , 2.3504202 ],\n",
       "        [3.1213214 , 2.5079522 , 0.8070836 , 2.104896  ],\n",
       "        [2.6454437 , 3.2002556 , 0.8665238 , 1.8078835 ],\n",
       "        [1.8163522 , 3.926765  , 0.8219084 , 0.9436851 ],\n",
       "        [2.4002123 , 4.08649   , 1.0966523 , 2.218544  ]],\n",
       "\n",
       "       [[1.1969165 , 0.58983016, 0.76100004, 0.8826098 ],\n",
       "        [1.2758739 , 0.35296863, 0.5688492 , 0.8797903 ],\n",
       "        [1.0331485 , 0.2789201 , 0.4644701 , 0.7005015 ],\n",
       "        [0.6066004 , 0.6156887 , 0.6490193 , 0.5331943 ],\n",
       "        [1.087866  , 0.39320752, 0.60336685, 0.731472  ]]], dtype=float32)>"
      ]
     },
     "execution_count": 29,
     "metadata": {},
     "output_type": "execute_result"
    }
   ],
   "source": [
    "# Batched matrix multiplication. Think of this as 2 separate matrix multiplications\n",
    "# that are then combined together in a single Tensor\n",
    "\n",
    "ops.matmul(c, d)"
   ]
  },
  {
   "cell_type": "code",
   "execution_count": null,
   "id": "1896e459-be4a-4ce7-b758-c437570d545c",
   "metadata": {},
   "outputs": [],
   "source": []
  }
 ],
 "metadata": {
  "kernelspec": {
   "display_name": "Python 3 (ipykernel)",
   "language": "python",
   "name": "python3"
  },
  "language_info": {
   "codemirror_mode": {
    "name": "ipython",
    "version": 3
   },
   "file_extension": ".py",
   "mimetype": "text/x-python",
   "name": "python",
   "nbconvert_exporter": "python",
   "pygments_lexer": "ipython3",
   "version": "3.11.0rc1"
  }
 },
 "nbformat": 4,
 "nbformat_minor": 5
}
